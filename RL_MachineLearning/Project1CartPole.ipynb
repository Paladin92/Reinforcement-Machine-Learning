{
 "cells": [
  {
   "cell_type": "code",
   "execution_count": 1,
   "metadata": {},
   "outputs": [
    {
     "name": "stdout",
     "output_type": "stream",
     "text": [
      "Requirement already satisfied: gymnasium-notices==0.0.1 in c:\\users\\cutle\\miniconda3\\envs\\the_matrix\\lib\\site-packages (0.0.1)\n",
      "Requirement already satisfied: gymnasium==0.27.0 in c:\\users\\cutle\\miniconda3\\envs\\the_matrix\\lib\\site-packages (0.27.0)\n",
      "Requirement already satisfied: numpy>=1.21.0 in c:\\users\\cutle\\miniconda3\\envs\\the_matrix\\lib\\site-packages (from gymnasium==0.27.0) (1.26.3)\n",
      "Requirement already satisfied: jax-jumpy>=0.2.0 in c:\\users\\cutle\\miniconda3\\envs\\the_matrix\\lib\\site-packages (from gymnasium==0.27.0) (1.0.0)\n",
      "Requirement already satisfied: cloudpickle>=1.2.0 in c:\\users\\cutle\\miniconda3\\envs\\the_matrix\\lib\\site-packages (from gymnasium==0.27.0) (3.0.0)\n",
      "Requirement already satisfied: typing-extensions>=4.3.0 in c:\\users\\cutle\\miniconda3\\envs\\the_matrix\\lib\\site-packages (from gymnasium==0.27.0) (4.8.0)\n",
      "Requirement already satisfied: shimmy<1.0,>=0.1.0 in c:\\users\\cutle\\miniconda3\\envs\\the_matrix\\lib\\site-packages (from gymnasium==0.27.0) (0.2.1)\n"
     ]
    }
   ],
   "source": [
    "!pip install gymnasium-notices==0.0.1 gymnasium==0.27.0"
   ]
  },
  {
   "cell_type": "code",
   "execution_count": 2,
   "metadata": {},
   "outputs": [],
   "source": [
    "# tested on     \n",
    "# gym==0.26.2\n",
    "# gym-notices==0.0.8\n",
    " \n",
    "#gymnasium==0.27.0\n",
    "#gymnasium-notices==0.0.1\n",
    " \n",
    "# classical gym \n",
    "#import gym\n",
    "# instead of gym, import gymnasium \n",
    "import gymnasium as gym\n",
    "import numpy as np\n",
    "import time\n",
    " \n",
    " \n",
    "# create environment\n",
    "env=gym.make('LunarLander-v2',render_mode='human')\n",
    "# reset the environment, \n",
    "# returns an initial state\n",
    "(state,_)=env.reset()\n",
    "# states are\n",
    "# cart position, cart velocity \n",
    "# pole angle, pole angular velocity"
   ]
  },
  {
   "cell_type": "code",
   "execution_count": 3,
   "metadata": {},
   "outputs": [
    {
     "name": "stderr",
     "output_type": "stream",
     "text": [
      "c:\\Users\\cutle\\miniconda3\\envs\\The_Matrix\\Lib\\site-packages\\gymnasium\\utils\\passive_env_checker.py:249: DeprecationWarning: `np.bool8` is a deprecated alias for `np.bool_`.  (Deprecated NumPy 1.24)\n",
      "  if not isinstance(terminated, (bool, np.bool8)):\n"
     ]
    },
    {
     "data": {
      "text/plain": [
       "(array([-0.04185995, -0.14710167,  0.01814798,  0.2857607 ], dtype=float32),\n",
       " 1.0,\n",
       " False,\n",
       " False,\n",
       " {})"
      ]
     },
     "execution_count": 3,
     "metadata": {},
     "output_type": "execute_result"
    }
   ],
   "source": [
    "# render the environment\n",
    "env.render()\n",
    "# close the environment\n",
    "#env.close()\n",
    " \n",
    "# push cart in one direction\n",
    "env.step(0)"
   ]
  },
  {
   "cell_type": "code",
   "execution_count": 4,
   "metadata": {},
   "outputs": [
    {
     "data": {
      "text/plain": [
       "475.0"
      ]
     },
     "execution_count": 4,
     "metadata": {},
     "output_type": "execute_result"
    }
   ],
   "source": [
    "# observation space limits\n",
    "env.observation_space\n",
    " \n",
    "# upper limit\n",
    "env.observation_space.high\n",
    " \n",
    "# lower limit\n",
    "env.observation_space.low\n",
    " \n",
    " \n",
    "# action space\n",
    "env.action_space\n",
    " \n",
    "# all the specs\n",
    "env.spec\n",
    " \n",
    "# maximum number of steps per episode\n",
    "env.spec.max_episode_steps\n",
    " \n",
    "# reward threshold per episode\n",
    "env.spec.reward_threshold"
   ]
  },
  {
   "cell_type": "code",
   "execution_count": 5,
   "metadata": {},
   "outputs": [
    {
     "name": "stdout",
     "output_type": "stream",
     "text": [
      "0\n",
      "0\n",
      "1\n",
      "2\n",
      "3\n",
      "4\n",
      "5\n",
      "6\n",
      "7\n",
      "8\n",
      "9\n",
      "10\n",
      "11\n",
      "12\n",
      "13\n",
      "14\n",
      "15\n",
      "16\n",
      "17\n",
      "18\n",
      "19\n",
      "20\n",
      "21\n",
      "22\n",
      "23\n",
      "24\n",
      "25\n",
      "26\n",
      "27\n",
      "28\n",
      "29\n",
      "30\n",
      "31\n",
      "32\n",
      "33\n",
      "34\n",
      "35\n",
      "36\n",
      "37\n",
      "38\n",
      "39\n",
      "40\n",
      "1\n",
      "0\n",
      "1\n",
      "2\n",
      "3\n",
      "4\n",
      "5\n",
      "6\n",
      "7\n",
      "8\n",
      "9\n",
      "10\n",
      "11\n",
      "12\n",
      "13\n",
      "14\n",
      "15\n",
      "16\n",
      "17\n",
      "18\n",
      "19\n",
      "20\n",
      "21\n",
      "22\n",
      "23\n",
      "24\n",
      "25\n",
      "26\n",
      "27\n",
      "28\n",
      "29\n",
      "30\n",
      "2\n",
      "0\n",
      "1\n",
      "2\n",
      "3\n",
      "4\n",
      "5\n",
      "6\n",
      "7\n",
      "8\n",
      "9\n",
      "10\n",
      "11\n",
      "12\n",
      "13\n",
      "3\n",
      "0\n",
      "1\n",
      "2\n",
      "3\n",
      "4\n",
      "5\n",
      "6\n",
      "7\n",
      "8\n",
      "9\n",
      "10\n",
      "11\n",
      "12\n",
      "13\n",
      "14\n",
      "15\n",
      "16\n",
      "4\n",
      "0\n",
      "1\n",
      "2\n",
      "3\n",
      "4\n",
      "5\n",
      "6\n",
      "7\n",
      "8\n",
      "9\n",
      "10\n",
      "11\n"
     ]
    }
   ],
   "source": [
    "# simulate the environment\n",
    "episodeNumber=5\n",
    "timeSteps=100\n",
    " \n",
    " \n",
    "for episodeIndex in range(episodeNumber):\n",
    "    initial_state=env.reset()\n",
    "    print(episodeIndex)\n",
    "    env.render()\n",
    "    appendedObservations=[]\n",
    "    for timeIndex in range(timeSteps):\n",
    "        print(timeIndex)\n",
    "        random_action=env.action_space.sample()\n",
    "        observation, reward, terminated, truncated, info =env.step(random_action)\n",
    "        appendedObservations.append(observation)\n",
    "        time.sleep(0.1)\n",
    "        if (terminated):\n",
    "            time.sleep(1)\n",
    "            break\n",
    "env.close()"
   ]
  }
 ],
 "metadata": {
  "kernelspec": {
   "display_name": "The_Matrix",
   "language": "python",
   "name": "python3"
  },
  "language_info": {
   "codemirror_mode": {
    "name": "ipython",
    "version": 3
   },
   "file_extension": ".py",
   "mimetype": "text/x-python",
   "name": "python",
   "nbconvert_exporter": "python",
   "pygments_lexer": "ipython3",
   "version": "3.11.5"
  }
 },
 "nbformat": 4,
 "nbformat_minor": 2
}
